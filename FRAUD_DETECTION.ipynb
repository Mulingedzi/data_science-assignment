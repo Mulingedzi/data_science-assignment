{
  "nbformat": 4,
  "nbformat_minor": 0,
  "metadata": {
    "colab": {
      "provenance": [],
      "authorship_tag": "ABX9TyMvh4fvwryCQnUImpG16CJr",
      "include_colab_link": true
    },
    "kernelspec": {
      "name": "python3",
      "display_name": "Python 3"
    },
    "language_info": {
      "name": "python"
    }
  },
  "cells": [
    {
      "cell_type": "markdown",
      "metadata": {
        "id": "view-in-github",
        "colab_type": "text"
      },
      "source": [
        "<a href=\"https://colab.research.google.com/github/Mulingedzi/data_science-assignment/blob/main/FRAUD_DETECTION.ipynb\" target=\"_parent\"><img src=\"https://colab.research.google.com/assets/colab-badge.svg\" alt=\"Open In Colab\"/></a>"
      ]
    },
    {
      "cell_type": "code",
      "execution_count": 7,
      "metadata": {
        "colab": {
          "base_uri": "https://localhost:8080/",
          "height": 107
        },
        "id": "oCaWXyx8zA4H",
        "outputId": "a0143a5a-3c47-400d-cece-0fdefe8002d3"
      },
      "outputs": [
        {
          "output_type": "display_data",
          "data": {
            "text/plain": [
              "<IPython.core.display.HTML object>"
            ],
            "text/html": [
              "\n",
              "     <input type=\"file\" id=\"files-a3f98c05-407d-4e05-91fc-ed5d38d57370\" name=\"files[]\" multiple disabled\n",
              "        style=\"border:none\" />\n",
              "     <output id=\"result-a3f98c05-407d-4e05-91fc-ed5d38d57370\">\n",
              "      Upload widget is only available when the cell has been executed in the\n",
              "      current browser session. Please rerun this cell to enable.\n",
              "      </output>\n",
              "      <script>// Copyright 2017 Google LLC\n",
              "//\n",
              "// Licensed under the Apache License, Version 2.0 (the \"License\");\n",
              "// you may not use this file except in compliance with the License.\n",
              "// You may obtain a copy of the License at\n",
              "//\n",
              "//      http://www.apache.org/licenses/LICENSE-2.0\n",
              "//\n",
              "// Unless required by applicable law or agreed to in writing, software\n",
              "// distributed under the License is distributed on an \"AS IS\" BASIS,\n",
              "// WITHOUT WARRANTIES OR CONDITIONS OF ANY KIND, either express or implied.\n",
              "// See the License for the specific language governing permissions and\n",
              "// limitations under the License.\n",
              "\n",
              "/**\n",
              " * @fileoverview Helpers for google.colab Python module.\n",
              " */\n",
              "(function(scope) {\n",
              "function span(text, styleAttributes = {}) {\n",
              "  const element = document.createElement('span');\n",
              "  element.textContent = text;\n",
              "  for (const key of Object.keys(styleAttributes)) {\n",
              "    element.style[key] = styleAttributes[key];\n",
              "  }\n",
              "  return element;\n",
              "}\n",
              "\n",
              "// Max number of bytes which will be uploaded at a time.\n",
              "const MAX_PAYLOAD_SIZE = 100 * 1024;\n",
              "\n",
              "function _uploadFiles(inputId, outputId) {\n",
              "  const steps = uploadFilesStep(inputId, outputId);\n",
              "  const outputElement = document.getElementById(outputId);\n",
              "  // Cache steps on the outputElement to make it available for the next call\n",
              "  // to uploadFilesContinue from Python.\n",
              "  outputElement.steps = steps;\n",
              "\n",
              "  return _uploadFilesContinue(outputId);\n",
              "}\n",
              "\n",
              "// This is roughly an async generator (not supported in the browser yet),\n",
              "// where there are multiple asynchronous steps and the Python side is going\n",
              "// to poll for completion of each step.\n",
              "// This uses a Promise to block the python side on completion of each step,\n",
              "// then passes the result of the previous step as the input to the next step.\n",
              "function _uploadFilesContinue(outputId) {\n",
              "  const outputElement = document.getElementById(outputId);\n",
              "  const steps = outputElement.steps;\n",
              "\n",
              "  const next = steps.next(outputElement.lastPromiseValue);\n",
              "  return Promise.resolve(next.value.promise).then((value) => {\n",
              "    // Cache the last promise value to make it available to the next\n",
              "    // step of the generator.\n",
              "    outputElement.lastPromiseValue = value;\n",
              "    return next.value.response;\n",
              "  });\n",
              "}\n",
              "\n",
              "/**\n",
              " * Generator function which is called between each async step of the upload\n",
              " * process.\n",
              " * @param {string} inputId Element ID of the input file picker element.\n",
              " * @param {string} outputId Element ID of the output display.\n",
              " * @return {!Iterable<!Object>} Iterable of next steps.\n",
              " */\n",
              "function* uploadFilesStep(inputId, outputId) {\n",
              "  const inputElement = document.getElementById(inputId);\n",
              "  inputElement.disabled = false;\n",
              "\n",
              "  const outputElement = document.getElementById(outputId);\n",
              "  outputElement.innerHTML = '';\n",
              "\n",
              "  const pickedPromise = new Promise((resolve) => {\n",
              "    inputElement.addEventListener('change', (e) => {\n",
              "      resolve(e.target.files);\n",
              "    });\n",
              "  });\n",
              "\n",
              "  const cancel = document.createElement('button');\n",
              "  inputElement.parentElement.appendChild(cancel);\n",
              "  cancel.textContent = 'Cancel upload';\n",
              "  const cancelPromise = new Promise((resolve) => {\n",
              "    cancel.onclick = () => {\n",
              "      resolve(null);\n",
              "    };\n",
              "  });\n",
              "\n",
              "  // Wait for the user to pick the files.\n",
              "  const files = yield {\n",
              "    promise: Promise.race([pickedPromise, cancelPromise]),\n",
              "    response: {\n",
              "      action: 'starting',\n",
              "    }\n",
              "  };\n",
              "\n",
              "  cancel.remove();\n",
              "\n",
              "  // Disable the input element since further picks are not allowed.\n",
              "  inputElement.disabled = true;\n",
              "\n",
              "  if (!files) {\n",
              "    return {\n",
              "      response: {\n",
              "        action: 'complete',\n",
              "      }\n",
              "    };\n",
              "  }\n",
              "\n",
              "  for (const file of files) {\n",
              "    const li = document.createElement('li');\n",
              "    li.append(span(file.name, {fontWeight: 'bold'}));\n",
              "    li.append(span(\n",
              "        `(${file.type || 'n/a'}) - ${file.size} bytes, ` +\n",
              "        `last modified: ${\n",
              "            file.lastModifiedDate ? file.lastModifiedDate.toLocaleDateString() :\n",
              "                                    'n/a'} - `));\n",
              "    const percent = span('0% done');\n",
              "    li.appendChild(percent);\n",
              "\n",
              "    outputElement.appendChild(li);\n",
              "\n",
              "    const fileDataPromise = new Promise((resolve) => {\n",
              "      const reader = new FileReader();\n",
              "      reader.onload = (e) => {\n",
              "        resolve(e.target.result);\n",
              "      };\n",
              "      reader.readAsArrayBuffer(file);\n",
              "    });\n",
              "    // Wait for the data to be ready.\n",
              "    let fileData = yield {\n",
              "      promise: fileDataPromise,\n",
              "      response: {\n",
              "        action: 'continue',\n",
              "      }\n",
              "    };\n",
              "\n",
              "    // Use a chunked sending to avoid message size limits. See b/62115660.\n",
              "    let position = 0;\n",
              "    do {\n",
              "      const length = Math.min(fileData.byteLength - position, MAX_PAYLOAD_SIZE);\n",
              "      const chunk = new Uint8Array(fileData, position, length);\n",
              "      position += length;\n",
              "\n",
              "      const base64 = btoa(String.fromCharCode.apply(null, chunk));\n",
              "      yield {\n",
              "        response: {\n",
              "          action: 'append',\n",
              "          file: file.name,\n",
              "          data: base64,\n",
              "        },\n",
              "      };\n",
              "\n",
              "      let percentDone = fileData.byteLength === 0 ?\n",
              "          100 :\n",
              "          Math.round((position / fileData.byteLength) * 100);\n",
              "      percent.textContent = `${percentDone}% done`;\n",
              "\n",
              "    } while (position < fileData.byteLength);\n",
              "  }\n",
              "\n",
              "  // All done.\n",
              "  yield {\n",
              "    response: {\n",
              "      action: 'complete',\n",
              "    }\n",
              "  };\n",
              "}\n",
              "\n",
              "scope.google = scope.google || {};\n",
              "scope.google.colab = scope.google.colab || {};\n",
              "scope.google.colab._files = {\n",
              "  _uploadFiles,\n",
              "  _uploadFilesContinue,\n",
              "};\n",
              "})(self);\n",
              "</script> "
            ]
          },
          "metadata": {}
        },
        {
          "output_type": "stream",
          "name": "stdout",
          "text": [
            "Saving Question 2 Datasets .csv to Question 2 Datasets  (4).csv\n",
            "Dataset loaded successfully!\n",
            "Question 2 shape: (200, 6)\n"
          ]
        }
      ],
      "source": [
        "from google.colab import files\n",
        "import pandas as pd\n",
        "import io\n",
        "\n",
        "# Upload your files\n",
        "uploaded = files.upload()\n",
        "\n",
        "# Load the datasets\n",
        "for filename in uploaded.keys():\n",
        "  fraud_df = pd.read_csv(io.BytesIO(uploaded[filename]))\n",
        "\n",
        "\n",
        "print(\"Dataset loaded successfully!\")\n",
        "print(\"Question 2 shape:\", fraud_df.shape)"
      ]
    },
    {
      "cell_type": "code",
      "source": [
        "from sklearn.cluster import KMeans\n",
        "from sklearn.preprocessing import StandardScaler, OneHotEncoder\n",
        "from sklearn.compose import ColumnTransformer\n",
        "from sklearn.pipeline import Pipeline\n",
        "import matplotlib.pyplot as plt"
      ],
      "metadata": {
        "id": "aSfUwNGo1Zy8"
      },
      "execution_count": 5,
      "outputs": []
    },
    {
      "cell_type": "code",
      "source": [
        "# Separate labeled and unlabeled data\n",
        "labeled_data = fraud_df[fraud_df['Is_Fraud (Labeled Subset)'] != -1]\n",
        "unlabeled_data = fraud_df[fraud_df['Is_Fraud (Labeled Subset)'] == -1]\n",
        "\n",
        "print(f\"Labeled data: {len(labeled_data)} records\")\n",
        "print(f\"Unlabeled data: {len(unlabeled_data)} records\")"
      ],
      "metadata": {
        "colab": {
          "base_uri": "https://localhost:8080/"
        },
        "id": "Je_mBKD51aOA",
        "outputId": "e4f600e0-3a12-4058-b7a4-377ecdb7300f"
      },
      "execution_count": 8,
      "outputs": [
        {
          "output_type": "stream",
          "name": "stdout",
          "text": [
            "Labeled data: 100 records\n",
            "Unlabeled data: 100 records\n"
          ]
        }
      ]
    },
    {
      "cell_type": "code",
      "source": [
        "preprocessor = ColumnTransformer(\n",
        "    transformers=[\n",
        "        ('num', StandardScaler(), ['Amount', 'Time_Hour']),\n",
        "        ('cat', OneHotEncoder(handle_unknown='ignore'), ['Location', 'Merchant'])\n",
        "    ])"
      ],
      "metadata": {
        "id": "zsLaHrLt1s2W"
      },
      "execution_count": 9,
      "outputs": []
    },
    {
      "cell_type": "code",
      "source": [
        "X_cluster = unlabeled_data.drop(['Index', 'Is_Fraud (Labeled Subset)'], axis=1)\n",
        "X_processed = preprocessor.fit_transform(X_cluster)\n"
      ],
      "metadata": {
        "id": "lTHOSVMb1tH8"
      },
      "execution_count": 10,
      "outputs": []
    },
    {
      "cell_type": "code",
      "source": [
        "# Elbow method to find optimal k\n",
        "wcss = []\n",
        "for i in range(1, 11):\n",
        "    kmeans = KMeans(n_clusters=i, random_state=42, n_init=10)\n",
        "    kmeans.fit(X_processed)\n",
        "    wcss.append(kmeans.inertia_)\n",
        "\n",
        "plt.figure(figsize=(10, 6))\n",
        "plt.plot(range(1, 11), wcss, marker='o')\n",
        "plt.title('Elbow Method for Optimal k')\n",
        "plt.xlabel('Number of clusters')\n",
        "plt.ylabel('WCSS')\n",
        "plt.savefig('elbow_method.png')\n",
        "plt.show()"
      ],
      "metadata": {
        "colab": {
          "base_uri": "https://localhost:8080/",
          "height": 422
        },
        "id": "5iYEdSoy104L",
        "outputId": "e581cc5c-f8a1-408a-dcc6-bc3fc8ed5b7b"
      },
      "execution_count": 11,
      "outputs": [
        {
          "output_type": "display_data",
          "data": {
            "text/plain": [
              "<Figure size 1000x600 with 1 Axes>"
            ],
            "image/png": "[encoded data removed]"
          },
          "metadata": {}
        }
      ]
    },
    {
      "cell_type": "code",
      "source": [
        "# Apply K-Means with optimal k (let's say k=3 based on elbow)\n",
        "kmeans = KMeans(n_clusters=3, random_state=42, n_init=10)\n",
        "clusters = kmeans.fit_predict(X_processed)\n",
        "\n",
        "# Add clusters to dataframe\n",
        "unlabeled_data['Cluster'] = clusters\n",
        "\n",
        "# Analyze clusters for anomalies\n",
        "cluster_stats = unlabeled_data.groupby('Cluster').agg({\n",
        "    'Amount': ['mean', 'std', 'count'],\n",
        "    'Time_Hour': ['mean', 'std']\n",
        "}).round(2)\n",
        "\n",
        "print(\"\\nCluster Statistics:\")\n",
        "print(cluster_stats)\n",
        "# Identify potential fraud clusters (high amount, unusual times)\n",
        "potential_fraud_clusters = unlabeled_data[\n",
        "    (unlabeled_data['Amount'] > unlabeled_data['Amount'].mean() + 2 * unlabeled_data['Amount'].std()) |\n",
        "    (unlabeled_data['Time_Hour'].isin([0, 1, 2, 3, 22, 23]))  # Late night/early morning\n",
        "]\n",
        "\n",
        "print(f\"\\nPotential fraud transactions identified: {len(potential_fraud_clusters)}\")\n"
      ],
      "metadata": {
        "colab": {
          "base_uri": "https://localhost:8080/"
        },
        "id": "oJUP_ph01077",
        "outputId": "95beaf7d-f783-4011-93fb-c485fe1b0ba3"
      },
      "execution_count": 12,
      "outputs": [
        {
          "output_type": "stream",
          "name": "stdout",
          "text": [
            "\n",
            "Cluster Statistics:\n",
            "          Amount               Time_Hour      \n",
            "            mean     std count      mean   std\n",
            "Cluster                                       \n",
            "0        1223.14  455.80    28      4.46  3.20\n",
            "1         339.07  294.32    37     14.35  4.98\n",
            "2        1523.28  356.52    35     17.23  3.43\n",
            "\n",
            "Potential fraud transactions identified: 18\n"
          ]
        },
        {
          "output_type": "stream",
          "name": "stderr",
          "text": [
            "/tmp/ipython-input-1238620809.py:6: SettingWithCopyWarning: \n",
            "A value is trying to be set on a copy of a slice from a DataFrame.\n",
            "Try using .loc[row_indexer,col_indexer] = value instead\n",
            "\n",
            "See the caveats in the documentation: https://pandas.pydata.org/pandas-docs/stable/user_guide/indexing.html#returning-a-view-versus-a-copy\n",
            "  unlabeled_data['Cluster'] = clusters\n"
          ]
        }
      ]
    },
    {
      "cell_type": "code",
      "source": [
        "from sklearn.naive_bayes import GaussianNB\n",
        "from sklearn.model_selection import train_test_split\n",
        "from sklearn.metrics import classification_report, confusion_matrix, f1_score\n",
        "\n",
        "# Prepare labeled data for classification\n",
        "X_labeled = labeled_data.drop(['Index', 'Is_Fraud (Labeled Subset)'], axis=1)\n",
        "y_labeled = labeled_data['Is_Fraud (Labeled Subset)']\n",
        "\n",
        "# Preprocessing pipeline\n",
        "preprocessor = ColumnTransformer(\n",
        "    transformers=[\n",
        "        ('num', StandardScaler(), ['Amount', 'Time_Hour']),\n",
        "        ('cat', OneHotEncoder(handle_unknown='ignore'), ['Location', 'Merchant'])\n",
        "    ])\n",
        "\n",
        "# Split labeled data\n",
        "X_train, X_test, y_train, y_test = train_test_split(X_labeled, y_labeled, test_size=0.3, random_state=42)\n",
        "\n",
        "# Create and train Naïve Bayes model\n",
        "nb_pipeline = Pipeline([\n",
        "    ('preprocessor', preprocessor),\n",
        "    ('classifier', GaussianNB())\n",
        "])\n",
        "\n",
        "nb_pipeline.fit(X_train, y_train)\n",
        "\n",
        "# Predictions\n",
        "y_pred = nb_pipeline.predict(X_test)\n",
        "\n",
        "# Evaluation\n",
        "print(\"Naïve Bayes Classification Report:\")\n",
        "print(classification_report(y_test, y_pred))\n",
        "print(\"\\nConfusion Matrix:\")\n",
        "print(confusion_matrix(y_test, y_pred))\n",
        "\n",
        "f1 = f1_score(y_test, y_pred)\n",
        "print(f\"F1 Score: {f1:.4f}\")"
      ],
      "metadata": {
        "colab": {
          "base_uri": "https://localhost:8080/"
        },
        "id": "mjIBjQ-o2AHs",
        "outputId": "00e459db-90cf-402d-a30c-63491759291c"
      },
      "execution_count": 13,
      "outputs": [
        {
          "output_type": "stream",
          "name": "stdout",
          "text": [
            "Naïve Bayes Classification Report:\n",
            "              precision    recall  f1-score   support\n",
            "\n",
            "         0.0       0.92      0.79      0.85        28\n",
            "         1.0       0.00      0.00      0.00         2\n",
            "\n",
            "    accuracy                           0.73        30\n",
            "   macro avg       0.46      0.39      0.42        30\n",
            "weighted avg       0.86      0.73      0.79        30\n",
            "\n",
            "\n",
            "Confusion Matrix:\n",
            "[[22  6]\n",
            " [ 2  0]]\n",
            "F1 Score: 0.0000\n"
          ]
        }
      ]
    },
    {
      "cell_type": "code",
      "source": [
        "def engineer_features(df):\n",
        "    df = df.copy()\n",
        "\n",
        "    # Time categories\n",
        "    df['Time_Category'] = pd.cut(df['Time_Hour'],\n",
        "                                bins=[-1, 6, 12, 18, 24],\n",
        "                                labels=['Night', 'Morning', 'Afternoon', 'Evening'])\n",
        "\n",
        "    # Amount categories\n",
        "    df['Amount_Category'] = pd.qcut(df['Amount'], q=4, labels=['Low', 'Medium', 'High', 'Very High'])\n",
        "\n",
        "    # Transaction size relative to average\n",
        "    df['Amount_Ratio'] = df['Amount'] / df['Amount'].mean()\n",
        "\n",
        "    # Weekend vs weekday (if you had date information)\n",
        "    # df['Is_Weekend'] = df['Transaction_Date'].dt.dayofweek >= 5\n",
        "\n",
        "    return df\n",
        "\n",
        "# Apply feature engineering\n",
        "X_labeled_eng = engineer_features(X_labeled)\n",
        "X_train_eng, X_test_eng, y_train, y_test = train_test_split(X_labeled_eng, y_labeled, test_size=0.3, random_state=42)\n",
        "\n",
        "# Update preprocessor for new features\n",
        "preprocessor_eng = ColumnTransformer(\n",
        "    transformers=[\n",
        "        ('num', StandardScaler(), ['Amount', 'Time_Hour', 'Amount_Ratio']),\n",
        "        ('cat', OneHotEncoder(handle_unknown='ignore'), ['Location', 'Merchant', 'Time_Category', 'Amount_Category'])\n",
        "    ])\n",
        "\n",
        "# Retrain with engineered features\n",
        "nb_pipeline_eng = Pipeline([\n",
        "    ('preprocessor', preprocessor_eng),\n",
        "    ('classifier', GaussianNB())\n",
        "])\n",
        "\n",
        "nb_pipeline_eng.fit(X_train_eng, y_train)\n",
        "y_pred_eng = nb_pipeline_eng.predict(X_test_eng)\n",
        "\n",
        "print(\"With Engineered Features:\")\n",
        "print(classification_report(y_test, y_pred_eng))\n",
        "f1_eng = f1_score(y_test, y_pred_eng)\n",
        "print(f\"F1 Score with engineered features: {f1_eng:.4f}\")"
      ],
      "metadata": {
        "colab": {
          "base_uri": "https://localhost:8080/"
        },
        "id": "Efn6rkI42ALh",
        "outputId": "db47de10-8d2a-42ed-ca8b-c2014c837534"
      },
      "execution_count": 14,
      "outputs": [
        {
          "output_type": "stream",
          "name": "stdout",
          "text": [
            "With Engineered Features:\n",
            "              precision    recall  f1-score   support\n",
            "\n",
            "         0.0       0.92      0.82      0.87        28\n",
            "         1.0       0.00      0.00      0.00         2\n",
            "\n",
            "    accuracy                           0.77        30\n",
            "   macro avg       0.46      0.41      0.43        30\n",
            "weighted avg       0.86      0.77      0.81        30\n",
            "\n",
            "F1 Score with engineered features: 0.0000\n"
          ]
        }
      ]
    },
    {
      "cell_type": "code",
      "source": [
        "from sklearn.model_selection import cross_val_score\n",
        "\n",
        "# Cross-validation\n",
        "cv_scores = cross_val_score(nb_pipeline_eng, X_labeled_eng, y_labeled, cv=10, scoring='f1')\n",
        "print(f\"Cross-validated F1 scores: {cv_scores}\")\n",
        "print(f\"Mean F1 score: {cv_scores.mean():.4f} (+/- {cv_scores.std() * 2:.4f})\")\n",
        "\n",
        "# Compare supervised vs unsupervised approaches\n",
        "print(\"\\nComparison:\")\n",
        "print(f\"Supervised (Naïve Bayes) F1 Score: {f1_eng:.4f}\")\n",
        "print(f\"Unsupervised clustering identified {len(potential_fraud_clusters)} potential fraud transactions\")"
      ],
      "metadata": {
        "colab": {
          "base_uri": "https://localhost:8080/"
        },
        "id": "icAnQyLB2AQC",
        "outputId": "68790f9a-b4ef-4926-b8e3-69ef2fc96f92"
      },
      "execution_count": 15,
      "outputs": [
        {
          "output_type": "stream",
          "name": "stdout",
          "text": [
            "Cross-validated F1 scores: [0.         0.         0.         0.         0.         0.5\n",
            " 0.66666667 0.66666667 0.         0.66666667]\n",
            "Mean F1 score: 0.2500 (+/- 0.6191)\n",
            "\n",
            "Comparison:\n",
            "Supervised (Naïve Bayes) F1 Score: 0.0000\n",
            "Unsupervised clustering identified 18 potential fraud transactions\n"
          ]
        },
        {
          "output_type": "stream",
          "name": "stderr",
          "text": [
            "/usr/local/lib/python3.12/dist-packages/sklearn/model_selection/_split.py:805: UserWarning: The least populated class in y has only 5 members, which is less than n_splits=10.\n",
            "  warnings.warn(\n"
          ]
        }
      ]
    }
  ]
}