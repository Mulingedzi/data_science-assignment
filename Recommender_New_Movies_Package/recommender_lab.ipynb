{
 "cells": [
  {
   "cell_type": "markdown",
   "id": "8a88169a",
   "metadata": {},
   "source": [
    "# Recommender System Lab (New Movies Dataset)"
   ]
  },
  {
   "cell_type": "code",
   "execution_count": null,
   "id": "c1a0ef12",
   "metadata": {},
   "outputs": [],
   "source": [
    "import pandas as pd\n",
    "import numpy as np\n",
    "from sklearn.metrics.pairwise import cosine_similarity\n",
    "from sklearn.feature_extraction.text import TfidfVectorizer\n",
    "from sklearn.preprocessing import normalize"
   ]
  },
  {
   "cell_type": "code",
   "execution_count": null,
   "id": "b61d6d0d",
   "metadata": {},
   "outputs": [],
   "source": [
    "df = pd.read_csv('movies.csv')\n",
    "df.head()"
   ]
  },
  {
   "cell_type": "code",
   "execution_count": null,
   "id": "2e262404",
   "metadata": {},
   "outputs": [],
   "source": [
    "user_item = df.pivot_table(index='user_id', columns='movie_title', values='rating')\n",
    "user_item"
   ]
  },
  {
   "cell_type": "code",
   "execution_count": null,
   "id": "93c71180",
   "metadata": {},
   "outputs": [],
   "source": [
    "filled = user_item.fillna(0).to_numpy()\n",
    "sim = cosine_similarity(filled)\n",
    "sim.shape"
   ]
  },
  {
   "cell_type": "code",
   "execution_count": null,
   "id": "cdb1766b",
   "metadata": {},
   "outputs": [],
   "source": [
    "# Example: recommend for user 1\n",
    "user_index = list(user_item.index).index(1)\n",
    "sims = sim[user_index]\n",
    "sims[user_index] = -np.inf\n",
    "\n",
    "ratings = user_item.to_numpy()\n",
    "ratings_filled = np.nan_to_num(ratings, nan=0)\n",
    "\n",
    "w = sims.reshape(-1,1)\n",
    "preds = (w*ratings_filled).sum(axis=0) / (np.abs(w).sum(axis=0)+1e-8)\n",
    "\n",
    "already_rated = ~np.isnan(ratings[user_index])\n",
    "preds[already_rated] = -np.inf\n",
    "\n",
    "movie_titles = list(user_item.columns)\n",
    "top_idx = np.argsort(preds)[-3:][::-1]\n",
    "[(movie_titles[i], preds[i]) for i in top_idx if preds[i] != -np.inf]"
   ]
  },
  {
   "cell_type": "code",
   "execution_count": null,
   "id": "0b2f9962",
   "metadata": {},
   "outputs": [],
   "source": [
    "if 'genre' in df.columns:\n",
    "    df['genre_text'] = df['genre'].astype(str).str.replace('|',' ')\n",
    "    tfidf = TfidfVectorizer()\n",
    "    item_tfidf = tfidf.fit_transform(df['genre_text'])\n",
    "    rows_u = df[df['user_id']==1]\n",
    "    thr = rows_u['rating'].mean()\n",
    "    liked = rows_u[rows_u['rating']>=thr]\n",
    "    if liked.empty:\n",
    "        liked = rows_u\n",
    "    user_profile = item_tfidf[liked.index.tolist()].mean(axis=0)\n",
    "    U = normalize(user_profile)\n",
    "    I = normalize(item_tfidf)\n",
    "    sims = (I@U.T).toarray().ravel()\n",
    "    rated_titles = set(rows_u['movie_title'])\n",
    "    candidates = {title: s for title,s in zip(df['movie_title'], sims) if title not in rated_titles}\n",
    "    sorted(candidates.items(), key=lambda x: x[1], reverse=True)[:3]"
   ]
  }
 ],
 "metadata": {},
 "nbformat": 4,
 "nbformat_minor": 5
}
